{
 "cells": [
  {
   "cell_type": "markdown",
   "id": "911c27b4-6366-4600-a54b-4cd65b9ca534",
   "metadata": {},
   "source": [
    "## Local navigation"
   ]
  },
  {
   "cell_type": "markdown",
   "id": "b85cc030-dce1-4a3a-97ce-b2973a092a9f",
   "metadata": {},
   "source": [
    "Thymio needs to avoid obstacles, in this case asteroids, as it travels through space. To do this, we call the function local_avoidance() that allows Thymio to avoid the obstacle and continue it way to Mars."
   ]
  },
  {
   "cell_type": "markdown",
   "id": "a6f76e21-7324-42bd-a321-dab899fa564f",
   "metadata": {},
   "source": [
    ">### Input:\n",
    ">>-  Current motors speed, horizotnal proximity sensors values\n",
    "\n",
    ">This function will take the current value of the motors and, depending on the weights and values of the various sensors, adjust the values of the motors so that it dodges the obstacle."
   ]
  },
  {
   "cell_type": "markdown",
   "id": "874cd76f-72db-4f36-8779-6a92dbbdaf89",
   "metadata": {},
   "source": [
    ">### Output:\n",
    ">>- new motors values (new motor_left_target,motor_right_target) allowing to avoid the obstacle\n",
    ">>- To avoid the robot to be blocked when it faces a front obstacle we adjust the weight so that it has a higher tendency to go on left."
   ]
  },
  {
   "cell_type": "markdown",
   "id": "95cd7b55-2889-4a02-a84a-587c9011025d",
   "metadata": {},
   "source": [
    ">### Call:\n",
    ">>- At each step of global navigation\n",
    "\n",
    ">In reality, when the global path function is called, it generates a path with segments. It then calls the drive() function, which splits the segment into 10 smaller segments. This is where we call the get_prox() function to compare the value of the proximity sensors with our WALL_THRESHOLD. This method gives the robot better detection on its path between two points on the layout. "
   ]
  },
  {
   "cell_type": "markdown",
   "id": "6626060c-3562-4891-aee4-e3556ec98bb3",
   "metadata": {},
   "source": [
    ">### Limitations:\n",
    ">The first limitation of this implementation lies in the call. Dividing the distance between 2 points into smaller distances partially solves the problem, because if an obstacle appears between these two smaller distances, the previous problem reappears. However, we don't do this when we're turning, which may mean that the robot doesn't detect obstacles properly when repositioning itself. \n",
    "A better approach would have been to use two different threads in parallel. Because what can happen is that the robot oscillates between the global_path() and local_navigation() functions and jerks. "
   ]
  },
  {
   "cell_type": "markdown",
   "id": "552f188d-7fee-4eb1-b620-7242b6791f31",
   "metadata": {},
   "source": [
    ">### Keys parameters:"
   ]
  },
  {
   "cell_type": "markdown",
   "id": "acb5e903-1fe0-4704-854c-a10b0829aea1",
   "metadata": {},
   "source": [
    "| Name | Meaning | Type (Unit) | Global|\n",
    "|-----------|-----------|-----------|-----------|\n",
    "|max_allowed_speed|Limit the speed outpout of the motor in local_navigation|int|no|\n",
    "|mem_sensor|Store the values of the 5 front sensors get by get_prox()|int|no|\n",
    "|sensor_scale|Rescale the output value of the sensors|int|no|\n",
    "|WALL_THRESHOLD|Threshold to determined when there is an obsctacle|int|yes||\n",
    "|ROBOT_SPEED|Current robot speed|int|yes|"
   ]
  },
  {
   "cell_type": "code",
   "execution_count": 2,
   "id": "b9c4c779-3b2a-4241-b3dd-b9739d20f9d9",
   "metadata": {},
   "outputs": [
    {
     "ename": "NameError",
     "evalue": "name 'tdmclient' is not defined",
     "output_type": "error",
     "traceback": [
      "\u001b[1;31m---------------------------------------------------------------------------\u001b[0m",
      "\u001b[1;31mNameError\u001b[0m                                 Traceback (most recent call last)",
      "Cell \u001b[1;32mIn[2], line 1\u001b[0m\n\u001b[1;32m----> 1\u001b[0m \u001b[38;5;129m@tdmclient\u001b[39m\u001b[38;5;241m.\u001b[39mnotebook\u001b[38;5;241m.\u001b[39msync_var\n\u001b[0;32m      2\u001b[0m \u001b[38;5;28;01mdef\u001b[39;00m \u001b[38;5;21mget_prox\u001b[39m():\n\u001b[0;32m      3\u001b[0m     \u001b[38;5;28;01mglobal\u001b[39;00m prox_horizontal\n\u001b[0;32m      4\u001b[0m     \u001b[38;5;28;01mreturn\u001b[39;00m prox_horizontal\n",
      "\u001b[1;31mNameError\u001b[0m: name 'tdmclient' is not defined"
     ]
    }
   ],
   "source": [
    "@tdmclient.notebook.sync_var\n",
    "def get_prox():\n",
    "    global prox_horizontal\n",
    "    return prox_horizontal\n",
    "\n",
    "\n",
    "#local navigation function\n",
    "def local_navigation():\n",
    "    global WALL_THRESHOLD,ROBOT_SPEED\n",
    "    max_allowed_speed = 150\n",
    "    set_var(leds_top = [32, 0, 0])\n",
    "    while max(get_prox())>WALL_THRESHOLD:\n",
    "        weight_left = [25,  15, -20, -15, -25]\n",
    "        weight_right = [-25, -15, -15,  15,  25]\n",
    "    \n",
    "        # Scale factors for sensors and constant factor\n",
    "        sensor_scale = 500\n",
    "    \n",
    "        mem_sensor = [0,0,0,0,0]\n",
    "        prox_horizontal = get_prox()\n",
    "        \n",
    "        for i in range(len(mem_sensor)):\n",
    "            # Get and scale inputs\n",
    "            mem_sensor[i] = prox_horizontal[i] // sensor_scale\n",
    "    \n",
    "        y = [ROBOT_SPEED,ROBOT_SPEED]   \n",
    "        \n",
    "        for i in range(len(mem_sensor)):   \n",
    "            # Compute outputs of neurons and set motor powers\n",
    "            y[0] = y[0] + mem_sensor[i] * weight_left[i]\n",
    "            y[1] = y[1] + mem_sensor[i] * weight_right[i]\n",
    "    \n",
    "        # Set motor powers\n",
    "        set_var(motor_left_target = min(y[0],max_allowed_speed))\n",
    "        set_var(motor_right_target = min(y[1],max_allowed_speed))\n",
    "        time.sleep(0.2)\n",
    "    set_var(leds_top = [0, 0, 32])\n",
    "\n",
    "    return\n"
   ]
  },
  {
   "cell_type": "markdown",
   "id": "56bd7582-f575-4f89-a76b-c7a88bd5e020",
   "metadata": {},
   "source": [
    "## Reference:\n",
    "[1] Solutions Week 3 - Artificial neural networks.ipynb\n",
    "\n",
    "[2] Some structure of the jupyter notebooks has been borrowed by the GitHub Repo https://github.com/hibetterheyj/Thymio_Vision_Guided_Navigation/blob/master/BMR_Final_Project.ipynb "
   ]
  },
  {
   "cell_type": "markdown",
   "id": "31aaacf8-5b05-4775-a848-2699161fd12d",
   "metadata": {},
   "source": [
    "## Introduction:\n",
    "> The aim of this project was to integrate the different themes currently being seen in one project: path planning, vision, local navigation and filtering. To combine these, we treated our robot as a spaceship.\n",
    " \n",
    ">Thymio Mars V aims to reach Mars in the shortest possible time, avoiding black holes along the way. To do this, the camera detects the robot's position, the position of Mars and the position of the black holes. To determine the shortest route, we decided to use the A* algorithm, as it's easy to implement and doesn't require a lot of resources. If Thymio Mars V encounters an asteroid field on its path, obstacle detection takes control and, thanks to the proximity sensors, the robot is able to avoid it.\n",
    "\n",
    ">Finally, Markov Filtering is used to be sure that the robot starts at the right position because this type of filtering is effective when there is uncertainty about the position and speed, which is the case in this project."
   ]
  },
  {
   "cell_type": "code",
   "execution_count": null,
   "id": "66830905-816a-4771-b65b-cf72a9b64a36",
   "metadata": {},
   "outputs": [],
   "source": []
  }
 ],
 "metadata": {
  "kernelspec": {
   "display_name": "Python 3 (ipykernel)",
   "language": "python",
   "name": "python3"
  },
  "language_info": {
   "codemirror_mode": {
    "name": "ipython",
    "version": 3
   },
   "file_extension": ".py",
   "mimetype": "text/x-python",
   "name": "python",
   "nbconvert_exporter": "python",
   "pygments_lexer": "ipython3",
   "version": "3.11.5"
  }
 },
 "nbformat": 4,
 "nbformat_minor": 5
}
