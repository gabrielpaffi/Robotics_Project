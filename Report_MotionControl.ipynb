{
 "cells": [
  {
   "cell_type": "markdown",
   "metadata": {},
   "source": [
    "### drive\n",
    "The drive function works by sleeping for the amount of s required to drive a distance of X [cm].\n",
    "We started off by calibrating the robot: the Thymio used for our project drives 6cm in 1s.\n",
    "This gives us a speed_drive = 6 cm/s for a motor speed of 150.\n",
    "The time the robot needs to sleep to drive a distance is: dist/speed_drive = [s]\n",
    "\n",
    "The driving is split into two functions: one that simply sets the speed of the motors to the desired speed, and another one that sets calculates the time the robot has to drive and makes it drive for that amount of seconds using time.sleep() [s].\n",
    "\n",
    "\n"
   ]
  },
  {
   "cell_type": "code",
   "execution_count": 1,
   "metadata": {},
   "outputs": [],
   "source": [
    "@tdmclient.notebook.sync_var\n",
    "# drive straight with \"speed\" (motor speed)\n",
    "def motors_drive(l_speed=500, r_speed=500):\n",
    "    global motor_left_target, motor_right_target\n",
    "    \n",
    "    motor_left_target = l_speed\n",
    "    motor_right_target = r_speed\n",
    "\n",
    "# drive \"dist\" [cm]\n",
    "def drive(dist=10):\n",
    "    global WALL_THRESHOLD, ROBOT_SPEED\n",
    "    motors_drive(ROBOT_SPEED,ROBOT_SPEED) #test with lower speed value\n",
    "    for i in range(10):\n",
    "        time.sleep((dist/(2*3))/10) \n",
    "        if max(get_prox()) > WALL_THRESHOLD:\n",
    "            print(\"obstacle detected\")\n",
    "            local_navigation()\n",
    "            break\n",
    "    motors_drive(0,0)"
   ]
  },
  {
   "cell_type": "markdown",
   "metadata": {},
   "source": []
  },
  {
   "cell_type": "markdown",
   "metadata": {},
   "source": [
    "### turn"
   ]
  },
  {
   "cell_type": "markdown",
   "metadata": {},
   "source": [
    "The turn function works in a very similar way: there is one function that makes the robot turn in a circle on the spot - clockwise and anticlockwise. \n",
    "\n",
    "Note that if the angle is positive, the robot turns clockwise.\n",
    "The speed of turning for a motor speed of 100 is speed_turn = 360°/9s.\n",
    "\n",
    "The Thymio needs to sleep for degrees/speed_turn.\n"
   ]
  },
  {
   "cell_type": "code",
   "execution_count": null,
   "metadata": {},
   "outputs": [],
   "source": [
    "# UPDATE THIS\n",
    "@tdmclient.notebook.sync_var \n",
    "# turn in a circle with \"speed\" (motor speed)\n",
    "def motors_turn(speed=100):\n",
    "    global motor_left_target, motor_right_target\n",
    "    motor_left_target = -speed\n",
    "    motor_right_target = speed\n",
    "    \n",
    "@tdmclient.notebook.sync_var \n",
    "def motors_turn_right(speed=100):\n",
    "    global motor_left_target, motor_right_target\n",
    "    motor_left_target = speed\n",
    "    motor_right_target = -speed\n",
    "\n",
    "# turn \"angle\" [degrees] anticlockwise\n",
    "def turn_degrees(angle):\n",
    "    if angle < 0:\n",
    "        motors_turn()\n",
    "        time.sleep(abs(angle)*9/360) # 18s for 360° turn with motor speed = 100\n",
    "        motors_turn(speed=0)\n",
    "    else:\n",
    "        motors_turn_right()\n",
    "        time.sleep(abs(angle)*9/360)\n",
    "        motors_turn_right(speed=0)"
   ]
  },
  {
   "cell_type": "markdown",
   "metadata": {},
   "source": []
  },
  {
   "cell_type": "markdown",
   "metadata": {},
   "source": []
  },
  {
   "cell_type": "markdown",
   "metadata": {},
   "source": []
  },
  {
   "cell_type": "markdown",
   "metadata": {},
   "source": []
  }
 ],
 "metadata": {
  "kernelspec": {
   "display_name": "Project01-Uhn-Tbhh",
   "language": "python",
   "name": "python3"
  },
  "language_info": {
   "codemirror_mode": {
    "name": "ipython",
    "version": 3
   },
   "file_extension": ".py",
   "mimetype": "text/x-python",
   "name": "python",
   "nbconvert_exporter": "python",
   "pygments_lexer": "ipython3",
   "version": "3.11.5"
  }
 },
 "nbformat": 4,
 "nbformat_minor": 2
}
