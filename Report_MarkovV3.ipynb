{
 "cells": [
  {
   "cell_type": "markdown",
   "metadata": {},
   "source": [
    "## Markov Filter"
   ]
  },
  {
   "cell_type": "markdown",
   "metadata": {},
   "source": [
    "#### Table of Contents\n",
    "\n",
    "* [Introduction to the Markov Filter](#IntroductionMarkovFilter)\n",
    "\n",
    "* [Implementation of the Markov Filter](#ImplementationMarkovFilter)\n",
    "\n",
    "* [Managing problems: multiple times the same value + ](#third-bullet)\n",
    "\n",
    "* [Visualization with heatmap](#forth-bullet)\n",
    "\n",
    "\n"
   ]
  },
  {
   "cell_type": "markdown",
   "metadata": {},
   "source": [
    "\n",
    "\n",
    "#### Introduction to the Markov Filter <a class=\"anchor\" id=\"IntroductionMarkovFilter\"></a>\n",
    "\n",
    "To get a better accuracy of the position of the robot, a Markov Localisation Filter is used. It is based on the Bayes Filter.\n",
    "The Markov process consists of a sequence of states, where each future state only depends on the current state.\n",
    "Markov Localization is particularly useful in scenarios where the environment is partially observable, and there is uncertainty in both the robot's actions and sensor measurements.\n",
    "\n",
    "The filtering is done after each segment of the global path that the robot has driven\n",
    "\n",
    "This is the header of the Markov function:\n",
    "- markov(x_robot,y_robot,x_CV,y_CV,confindence_CV,first_step)\n",
    "\n",
    "Input: \n",
    "- belief position of the robot based on the global path (x_robot,y_robot)\n",
    "- position of the robot given by CV (x_CV,y_CV)\n",
    "- confidence of the robot's position given by CV\n",
    "- first_step: True if it the robot has just driven the first segment of the global path, False otherwise\n",
    "\n",
    "Output:\n",
    "- more accurate position of the robot (x,y)\n",
    "\n",
    "\n",
    "Source: \"MOBILE ROBOTS 7/8 - Uncertainties\" from Prof. Mondada of the class \"Basics of Mobile Robotics\", MICRO-452, EPFL.\n",
    "\n"
   ]
  },
  {
   "cell_type": "markdown",
   "metadata": {},
   "source": [
    " \n",
    "#### Implementation of the Markov filter <a class=\"anchor\" id=\"#ImplementationMarkovFilter\"></a>\n",
    "\n",
    "The algorithm consists of the following steps:\n",
    "0) Initialize the maps\n",
    "1) Belief state\n",
    "2) Sensor update\n",
    "3) Motion update\n",
    "4) Calculation step\n",
    "4) Recursive estimation\n",
    "\n",
    "\n",
    "Decisions taken:\n",
    "- The size of the camera frame is: 480x640 - hight x width. We chose the map to have the size of 75 x 100 which has the same ratio as the camera frame.\n",
    "- We assume that the motion control of the robot is accurate 80% of the time and that the robot is otherwise going to be on a neighbouring pixel with a probability of 0.8/8 (there are 8 niehgbouring pixels).\n"
   ]
  },
  {
   "cell_type": "markdown",
   "metadata": {},
   "source": [
    "0) Initializing the maps\n",
    "This step is done once at the start of the program. To compute the Markov filter, we need three maps of the same size (75x100) \"pixels\". Please note that \"pixels\" refers to the individual squares on the map, not the camera pixels.\n",
    "The base map (map) is inisialized with a base probability of 1/(width*height) of the map.\n",
    "The map_estimate_robot and the map_estimate_CV containing the belief and measured position of the robot respecitively, are empty."
   ]
  },
  {
   "cell_type": "code",
   "execution_count": null,
   "metadata": {},
   "outputs": [],
   "source": [
    "def initialize_maps(length,height):\n",
    "    global map, map_estimate_robot, map_estimate_CV\n",
    "    \n",
    "    # initialize map\n",
    "    start_prob = 1/(length*height)\n",
    "    map = np.empty((length,height), float)\n",
    "    map.fill(start_prob)\n",
    "    #display_heatmap(map)\n",
    "\n",
    "    # initialize map_estimate_robot\n",
    "    map_estimate_robot = np.empty((length,height), float)\n",
    "    map_estimate_robot.fill(0.0)\n",
    "\n",
    "    # initialize map_estimate_CV\n",
    "    map_estimate_CV = np.empty((length,height), float)\n",
    "    map_estimate_CV.fill(0)\n",
    "\n",
    "    print(map)"
   ]
  },
  {
   "cell_type": "markdown",
   "metadata": {},
   "source": [
    "1) The belief state\n",
    "\n",
    "In our case, the belief state corresponds to the position the robot is supposed to have after having driven a segment according to the global path. It is therefore simply equal to the current step of the global path.\n",
    "The probability that the robot is in the \"pixel\" it is supposed to be in is 0.8. The probability that it's in one of the surrounding pixels is 0.8/8 (there are 8 surrounding pixels).\n",
    "\n",
    " !!!!!!!!!!!! DID I NOT IMPLEMENT THIS !!!!!!!!!!!!!!!\n",
    "To make sure that this also works at the edges of the map,  ??????????????????"
   ]
  },
  {
   "cell_type": "code",
   "execution_count": null,
   "metadata": {},
   "outputs": [],
   "source": [
    "def estimate_robot(x,y):\n",
    "    global map_estimate_robot   \n",
    "    \n",
    "    # reset map to 0\n",
    "    map_estimate_robot.fill(0)\n",
    "\n",
    "    # add prob\n",
    "    P_HIT = 0.8\n",
    "    P_MISS = 0.2/8 #8 neighboring pixels\n",
    "    map_estimate_robot[x][y] = P_HIT\n",
    "    neighbouring_pixels(x,y,P_MISS,map_estimate_robot)\n",
    "    \n",
    "    #display_heatmap(map_estimate_robot)\n",
    "    print(map_estimate_robot)\n",
    "\n",
    "\n",
    "\n",
    "def neighbouring_pixels(x,y,prob,any_map):\n",
    "    global map_estimate_robot\n",
    " \n",
    "    any_map[x-1][y-1] = prob\n",
    "    any_map[x-1][y] = prob\n",
    "    any_map[x-1][y+1] = prob\n",
    "\n",
    "    any_map[x][y-1] = prob\n",
    "    any_map[x][y+1] = prob\n",
    "\n",
    "    any_map[x+1][y-1] = prob\n",
    "    any_map[x+1][y] = prob\n",
    "    any_map[x+1][y+1] = prob\n"
   ]
  },
  {
   "cell_type": "markdown",
   "metadata": {},
   "source": [
    "2) Sensor update\n",
    "\n",
    "The CV gives the position of the robot and also a confidence value. The given position has a confindence of that confidence value, the surrounding \"pixels\" have a probability of (1-confidence)/8 (there are 8 surrounding pixels).\n",
    "\n"
   ]
  },
  {
   "cell_type": "code",
   "execution_count": null,
   "metadata": {},
   "outputs": [],
   "source": [
    "def estimate_CV(x,y,confidence_CV):\n",
    "    # reset map to 0\n",
    "    map_estimate_CV.fill(0)\n",
    "\n",
    "    # add prob\n",
    "    MEAS_P_HIT = confidence_CV\n",
    "    MEAS_P_MISS = (1-confidence_CV)/8\n",
    "    map_estimate_CV[x][y] = MEAS_P_HIT\n",
    "    neighbouring_pixels(x,y,MEAS_P_MISS,map_estimate_CV)\n",
    "    \n",
    "    #display_heatmap(map_estimate_CV)\n",
    "    print(map_estimate_CV)"
   ]
  },
  {
   "cell_type": "markdown",
   "metadata": {},
   "source": [
    "3) Calculation step\n",
    "The map, map_estimate_CV, and map_estimate_robot are multiplied and subsequently normalized so that the sum of all the elements in the map is equal to 1. \n",
    "\n",
    "The function filtered_pos_robot() finds the indexes of the \"pixel\" in the map that has the highest probability.\n",
    "If there are multiple pixels that have the same probability, the function multiple_highest_prob_with_same_value(pos_robot,indices) return the \"pixel\" that is the closest to the belief position of the robot.\n",
    "\n",
    "\n"
   ]
  },
  {
   "cell_type": "code",
   "execution_count": null,
   "metadata": {},
   "outputs": [],
   "source": [
    "def multiply_maps():\n",
    "    global map, map_estimate_CV, map_estimate_robot\n",
    "    temp = np.multiply(map_estimate_CV,map_estimate_robot)\n",
    "    \n",
    "    # if the estimated position of the robot and by CV are too far apart, or the last position of the robot and its position now, the whole map after multiplication is = 0\n",
    "    # in this case, set map = map_estimate_robot as it is less likely that the position measured by the robot is off by a lot than the CV\n",
    "    if (not np.any(temp)):\n",
    "        map = map\n",
    "    else:\n",
    "        map = np.multiply(map,temp)\n",
    "\n",
    "    if (not np.any(map)):\n",
    "        map = map_estimate_CV  # if start map and new position is too different, just take the position of the CV (e.g. displacing robot by hand)\n",
    "\n",
    "    print(\"multiply\", map)\n",
    "\n",
    "# Function to normalize the values in map such that the sum of all elements is 1\n",
    "def normalize_map():\n",
    "    global map\n",
    "  \n",
    "    # Calculate the sum of all values in the map array\n",
    "    sum = np.sum(map)\n",
    "     # Divide each element in the map array by the sum to normalize the values\n",
    "    map = np.divide(map,sum)\n",
    "    \n",
    " def multiple_highest_prob_with_same_value(pos_robot,indices):\n",
    "\n",
    "    # save estimated position of robot, estimated by itself\n",
    "    pos_robot_x = pos_robot[0].item()\n",
    "    pos_robot_y = pos_robot[1].item()\n",
    "    point = np.array([pos_robot_x, pos_robot_y])\n",
    "\n",
    "    # put values of pos with the same highest prob in a table, table[0] -> x, table[1] -> 1\n",
    "    table = np.array(indices).tolist()\n",
    "\n",
    "    # Transpose the table array\n",
    "    table_array = np.array(table).T\n",
    "\n",
    "    # Calculate Euclidean distances\n",
    "    distances = np.linalg.norm(table_array - point, axis=1)\n",
    "\n",
    "    # Find the index of the minimum distance\n",
    "    closest_index = np.argmin(distances)\n",
    "    X_ROBOT = table[0][1]\n",
    "    Y_ROBOT = table[1][1]\n",
    "\n",
    "    return X_ROBOT,Y_ROBOT\n",
    "\n",
    "\n",
    "\n",
    "def filtered_pos_robot():\n",
    "    # Find indices where the maximum value occurs in map\n",
    "    indices = np.where(map == map.max())\n",
    "    # Find indices where the maximum value occurs in map_estimate_robot\n",
    "    pos_robot = np.where(map_estimate_robot == map_estimate_robot.max())\n",
    "    \n",
    "    # Check if there is a single pair of coordinates in indices\n",
    "    if (np.size(indices)==2): \n",
    "        # If there is only one maximum, assign X_ROBOT and Y_ROBOT directly\n",
    "        X_ROBOT = indices[0].item()\n",
    "        Y_ROBOT = indices[1].item()\n",
    "    else:\n",
    "        # If there are multiple maxima, use a function to resolve the conflict\n",
    "        X_ROBOT, Y_ROBOT = multiple_highest_prob_with_same_value(pos_robot,indices)\n",
    "    \n",
    "    # Return the X and Y coordinates of the robot\n",
    "    return X_ROBOT,Y_ROBOT"
   ]
  },
  {
   "cell_type": "markdown",
   "metadata": {},
   "source": [
    "4) There is no need for a motion update as the global path is simply recalculated after each segment of the global path based on the position given by the filter.\n",
    "\n",
    "5) Recursive estimation\n",
    "The filtering is done after every segment of the global path.\n",
    "\n",
    "\n"
   ]
  },
  {
   "cell_type": "markdown",
   "metadata": {},
   "source": [
    "Plotting the heatmap:\n",
    "This function plots a heatmap using the seaborn library,. This helps visualize the probabilities of the different \"pixels\"."
   ]
  },
  {
   "cell_type": "code",
   "execution_count": null,
   "metadata": {},
   "outputs": [],
   "source": [
    "def display_heatmap(data_to_display):\n",
    "    #hm = sn.heatmap(data = data_to_display, annot=False, linewidth=.5, vmin=0, vmax=1.0) \n",
    "    hm = sn.heatmap(data = data_to_display, annot=False, linewidth=.5, vmin=0, vmax=1.0) \n",
    "    hm.invert_yaxis()"
   ]
  },
  {
   "cell_type": "markdown",
   "metadata": {},
   "source": [
    "#### The function markov(x_robot,y_robot,x_CV,y_CV,confindence_CV) <a class=\"anchor\" id=\"#MarkovFunction\"></a>\n",
    "Finally, this is the function that runs the Markov filter.\n",
    "\n",
    "As (x_CV,y_CV) is a float, it needs to be converted to an integer before being used by the Markov filter. We chose a 64bit integer and to round down (x_CV,y_CV)."
   ]
  },
  {
   "cell_type": "code",
   "execution_count": null,
   "metadata": {},
   "outputs": [],
   "source": [
    "def markov(x_robot,y_robot,x_CV,y_CV,confindence_CV):\n",
    "    # Initialize local variables\n",
    "    x_filtered_pos_robot = 0\n",
    "    y_filtered_pos_robot = 0\n",
    "    # take integer value (rounded down)\n",
    "    x_robot = np.int64(x_robot)\n",
    "    y_robot = np.int64(y_robot)\n",
    "    x_CV = np.int64(x_CV)\n",
    "    y_CV = np.int64(y_CV)\n",
    "    \n",
    "    # Running the Markov Filter\n",
    "    estimate_robot(x_robot,y_robot)\n",
    "    estimate_CV(x_CV,y_CV,confindence_CV)\n",
    "    multiply_maps()\n",
    "    normalize_map()\n",
    "    x_filtered_pos_robot, y_filtered_pos_robot = filtered_pos_robot()\n",
    "\n",
    "    return x_filtered_pos_robot, y_filtered_pos_robot"
   ]
  },
  {
   "cell_type": "markdown",
   "metadata": {},
   "source": []
  },
  {
   "cell_type": "code",
   "execution_count": null,
   "metadata": {},
   "outputs": [],
   "source": []
  },
  {
   "cell_type": "markdown",
   "metadata": {},
   "source": [
    "## Limitations of the Markov filter <a class=\"anchor\" id=\"LimitationsMarkovFilter\"></a>\n",
    "\n",
    "\n",
    "\n",
    "- too many pixels -> too little weight, could have chosen bigger ones but then u loose precision\n",
    "\n",
    "\n",
    "\n",
    "\n"
   ]
  },
  {
   "cell_type": "markdown",
   "metadata": {},
   "source": []
  },
  {
   "cell_type": "markdown",
   "metadata": {},
   "source": []
  }
 ],
 "metadata": {
  "kernelspec": {
   "display_name": "Project01-Uhn-Tbhh",
   "language": "python",
   "name": "python3"
  },
  "language_info": {
   "codemirror_mode": {
    "name": "ipython",
    "version": 3
   },
   "file_extension": ".py",
   "mimetype": "text/x-python",
   "name": "python",
   "nbconvert_exporter": "python",
   "pygments_lexer": "ipython3",
   "version": "3.11.5"
  }
 },
 "nbformat": 4,
 "nbformat_minor": 2
}
