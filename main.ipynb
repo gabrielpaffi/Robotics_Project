{
 "cells": [
  {
   "cell_type": "code",
   "execution_count": 5,
   "metadata": {},
   "outputs": [],
   "source": [
    "## Import packages and function\n",
    "\n",
    "import cv2\n",
    "from ultralytics import YOLO\n",
    "from CV_function import *\n",
    "\n"
   ]
  },
  {
   "cell_type": "code",
   "execution_count": 6,
   "metadata": {},
   "outputs": [],
   "source": [
    "## Initialisation of variables\n",
    "\n",
    " \n",
    "# General parameters\n",
    "\n",
    "frame_width = 640\n",
    "frame_height = 480\n",
    "\n",
    "\n",
    "# Computer vision parameters\n",
    "model = YOLO(\"robotv12.pt\")\n",
    "class_object = [\"blackholes\",\"earth\",\"mars\", \"robot\" ]\n",
    "circle_radius = 3\n",
    "circle_thicknes = 3\n",
    "line_thickness = 2\n",
    "blue= (255,0,0)\n",
    "\n",
    "# Global path paramters\n",
    "maps_size_width = 100\n",
    "scaling_factor = frame_width/maps_size_width\n",
    "\n",
    "\n",
    "# Local navigation parameters\n",
    "\n",
    "\n",
    "# Filtering paramters"
   ]
  },
  {
   "cell_type": "code",
   "execution_count": null,
   "metadata": {},
   "outputs": [],
   "source": []
  }
 ],
 "metadata": {
  "kernelspec": {
   "display_name": "Python 3",
   "language": "python",
   "name": "python3"
  },
  "language_info": {
   "codemirror_mode": {
    "name": "ipython",
    "version": 3
   },
   "file_extension": ".py",
   "mimetype": "text/x-python",
   "name": "python",
   "nbconvert_exporter": "python",
   "pygments_lexer": "ipython3",
   "version": "3.10.12"
  }
 },
 "nbformat": 4,
 "nbformat_minor": 2
}
