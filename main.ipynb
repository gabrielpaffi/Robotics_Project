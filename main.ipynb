{
 "cells": [
  {
   "cell_type": "code",
   "execution_count": 1,
   "metadata": {},
   "outputs": [],
   "source": [
    "import math \n",
    "import numpy as np\n",
    "import tdmclient.notebook\n",
    "\n",
    "\n",
    "## Import packages and function\n",
    "\n",
    "import cv2\n",
    "from ultralytics import YOLO\n",
    "\n",
    "from CV_function import *\n",
    "from path_object import *\n",
    "from Markov_Filter import *"
   ]
  },
  {
   "cell_type": "markdown",
   "metadata": {},
   "source": [
    "### Main loop"
   ]
  },
  {
   "cell_type": "code",
   "execution_count": 2,
   "metadata": {},
   "outputs": [],
   "source": [
    "#Initialize robot\n",
    "try:\n",
    "    await tdmclient.notebook.stop()\n",
    "except:\n",
    "    pass\n",
    "await tdmclient.notebook.start()"
   ]
  },
  {
   "cell_type": "code",
   "execution_count": null,
   "metadata": {},
   "outputs": [],
   "source": []
  },
  {
   "cell_type": "code",
   "execution_count": 3,
   "metadata": {},
   "outputs": [],
   "source": [
    "#Initialize Global path object\n",
    "global_nav = Global_nav()"
   ]
  },
  {
   "cell_type": "code",
   "execution_count": 4,
   "metadata": {},
   "outputs": [],
   "source": [
    "#function to sync variables between the notebook and the robot\n",
    "@tdmclient.notebook.sync_var\n",
    "def get_prox():\n",
    "    global prox_horizontal\n",
    "    return prox_horizontal\n",
    "\n"
   ]
  },
  {
   "cell_type": "code",
   "execution_count": 5,
   "metadata": {},
   "outputs": [],
   "source": [
    "def local_navigation():\n",
    "    global prox_horizontal, motor_left_target, motor_right_target, button_center, state\n",
    "    set_var(leds_top = [32, 0, 0])\n",
    "    while max(get_prox())>100:\n",
    "        weight_left = [25,  15, -20, -15, -25]\n",
    "        weight_right = [-25, -15, -15,  15,  25]\n",
    "    \n",
    "        # Scale factors for sensors and constant factor\n",
    "        sensor_scale = 500\n",
    "        constant_scale = 20\n",
    "    \n",
    "        mem_sensor = [0,0,0,0,0]\n",
    "        prox_horizontal = get_prox()\n",
    "        \n",
    "        for i in range(5):\n",
    "            # Get and scale inputs\n",
    "            mem_sensor[i] = prox_horizontal[i] // sensor_scale\n",
    "    \n",
    "        y = [100,100]   \n",
    "        \n",
    "        for i in range(len(mem_sensor)):   \n",
    "            # Compute outputs of neurons and set motor powers\n",
    "            y[0] = y[0] + mem_sensor[i] * weight_left[i]\n",
    "            y[1] = y[1] + mem_sensor[i] * weight_right[i]\n",
    "    \n",
    "        # Set motor powers\n",
    "        set_var(motor_left_target = min(y[0],150))\n",
    "        set_var(motor_right_target = min(y[1],150))\n",
    "        time.sleep(0.2)\n",
    "    set_var(leds_top = [0, 0, 32])\n",
    "\n",
    "    return"
   ]
  },
  {
   "cell_type": "code",
   "execution_count": 6,
   "metadata": {},
   "outputs": [],
   "source": [
    "\n",
    "\n",
    "@tdmclient.notebook.sync_var\n",
    "# drive straight with \"speed\" (motor speed)\n",
    "def motors_drive(l_speed=500, r_speed=500):\n",
    "    global motor_left_target, motor_right_target\n",
    "    \n",
    "    motor_left_target = l_speed\n",
    "    motor_right_target = r_speed\n",
    "\n",
    "# drive \"dist\" [cm]\n",
    "def drive(dist=10):\n",
    "    motors_drive(150,150) #test with lower speed value\n",
    "    for i in range(10):\n",
    "        time.sleep((dist/(2*3))/10) #motor speed = 50 equals 2.5cm/s -> calculates how many s you have to drive to cover a distance \"dist\" [cm]\n",
    "        if max(get_prox()) > 100:\n",
    "            print(\"obstacle detected\")\n",
    "            local_navigation()\n",
    "            break\n",
    "    motors_drive(0,0)\n",
    "\n",
    "\n",
    "@tdmclient.notebook.sync_var \n",
    "# turn in a circle with \"speed\" (motor speed)\n",
    "def motors_turn(speed=100):\n",
    "    global motor_left_target, motor_right_target\n",
    "    motor_left_target = -speed\n",
    "    motor_right_target = speed\n",
    "    \n",
    "@tdmclient.notebook.sync_var \n",
    "def motors_turn_right(speed=100):\n",
    "    global motor_left_target, motor_right_target\n",
    "    motor_left_target = speed\n",
    "    motor_right_target = -speed\n",
    "\n",
    "# turn \"angle\" [degrees] anticlockwise\n",
    "def turn_degrees(angle):\n",
    "    if angle < 0:\n",
    "        motors_turn()\n",
    "        time.sleep(abs(angle)*9/360) # 18s for 360° turn with motor speed = 100\n",
    "        motors_turn(speed=0)\n",
    "    else:\n",
    "        motors_turn_right()\n",
    "        time.sleep(abs(angle)*9/360)\n",
    "        motors_turn_right(speed=0)\n",
    "\n",
    "# turn \"angle\" (2. row of Astar_moves) then drive \"dist\" (1.row of Astar_moves)\n",
    "def follow_path(dist,angle):\n",
    "    turn_degrees(angle)\n",
    "    drive(dist)\n",
    "    \n",
    "#used to initialize the follow robot command\n",
    "def follow_path_init(path, current_angle,scale_factor):\n",
    "    Ang = get_angle(path[0],path[1])\n",
    "    Ang = Ang  - current_angle\n",
    "    if abs(Ang) > 180:\n",
    "                    if Ang > 0:\n",
    "                        Ang = Ang-360\n",
    "                    else:\n",
    "                        Ang = Ang+360\n",
    "    dist = get_distance(path[0],path[1])\n",
    "    current_angle = Ang + current_angle\n",
    "    follow_path(dist*scale_factor,-Ang)\n",
    "    return current_angle\n",
    "\n"
   ]
  },
  {
   "cell_type": "code",
   "execution_count": 16,
   "metadata": {},
   "outputs": [
    {
     "name": "stdout",
     "output_type": "stream",
     "text": [
      "0.0\n",
      "0.0\n",
      "0.0\n",
      "17.11724276862369\n",
      "0.0\n",
      "0.0\n",
      "25.0\n",
      "1.4142135623730951\n",
      "0.0\n",
      "0.0\n",
      "12.529964086141668\n",
      "obstacle detected\n",
      "0.0\n",
      "obstacle detected\n",
      "0.0\n",
      "obstacle detected\n",
      "0.0\n",
      "10.295630140987\n",
      "Reached goal\n"
     ]
    }
   ],
   "source": [
    "#sorted_object_last = [['robot', [0.1, 0.1, 0.12, 0.24], 0.912], ['mars',  [0.95, 0.95, 0.12, 0.24], 0.912], ['earth', [0.35, 0.89, 0.09, 0.15], 0.905]]\n",
    "#sorted_object = [['robot', [0.1, 0.1, 0.12, 0.24], 0.912], ['mars',  [0.95, 0.95, 0.12, 0.24], 0.912], ['earth', [0.35, 0.89, 0.09, 0.15], 0.905]]\n",
    "\n",
    "map_max_x = 100\n",
    "map_max_y = 75\n",
    "#initialize markov filter map \n",
    "initialize_maps(map_max_x,map_max_y)\n",
    "\n",
    "\n",
    "#Set current angle to 0\n",
    "current_angle = 0\n",
    "#robot LED in driving mode\n",
    "set_var(leds_top = [0, 0, 32])\n",
    "\n",
    "i = 0\n",
    "#Initialize camera\n",
    "cap = cv2.VideoCapture(0)\n",
    "fourcc = cv2.VideoWriter_fourcc(*'XVID') \n",
    "output_ = cv2.VideoWriter('output.avi', fourcc, frames_per_second, (frame_height, frame_width)) \n",
    "while cap.isOpened():\n",
    "    \n",
    "    \n",
    "    #image localization\n",
    "    success, frame = cap.read()\n",
    "    if  success:\n",
    "        ## Computer vision detection\n",
    "        array_box_dim_tot, annotated_frame = detection(frame)\n",
    "        \n",
    "        sorted_object = sorted(array_box_dim_tot, key=lambda x: order.get(x[0]))\n",
    "        #break when q is pressed\n",
    "        key = cv2.waitKey(1) & 0xFF \n",
    "        if key == ord('c'):  \n",
    "            break  \n",
    "    else:\n",
    "        print(\"Unable to load the camera pic\")\n",
    "        break\n",
    "\n",
    "    #fixing output from camera, use last output if no object is detected\n",
    "    sorted_object = fix_output(sorted_object,sorted_object_last)\n",
    "    \n",
    "\n",
    "    if sorted_object == False: \n",
    "        start = opti_path[1] \n",
    "        opti_path = opti_path[1:]\n",
    "        if len(opti_path) == 1:\n",
    "            print(\"Reached goal\")\n",
    "            set_var(leds_top = [0, 32, 0])\n",
    "            break\n",
    "        current_angle = follow_path_init(opti_path,current_angle,scale_factor)\n",
    "        last_robot_pos = list(start)\n",
    "        annotated_frame = frame\n",
    "        cv2.imshow(\"frame\", annotated_frame)\n",
    "        continue\n",
    "\n",
    "    #save last output\n",
    "    sorted_object_last = sorted_object\n",
    "\n",
    "    #change format of pic output \n",
    "    start, goal, earth, robot_radius, earth_radius, black_holes_centers, black_holes_radiuss,scale_factor = global_nav.convert_OPENCV_tovalues(sorted_object)\n",
    "    #if distance between robot and mars is less than 5 stop \n",
    "    if get_distance(start,goal) < 4:\n",
    "        print(\"Reached goal\")\n",
    "        set_var(leds_top = [0, 32, 0])\n",
    "        break\n",
    "    \n",
    "    #create map for gloabl navigation\n",
    "    occ, _,_=  global_nav.create_map( goal = goal ,black_holes_centers = black_holes_centers,black_holes_radiuss=black_holes_radiuss)\n",
    "\n",
    "    #use markov filter to update position \n",
    "    if i>0:\n",
    "        print(np.linalg.norm(np.array(markov(opti_path[1][0],opti_path[1][1],start[0],start[1],sorted_object[0][2],i==0))-np.array(start)))\n",
    "        if np.linalg.norm(np.array(markov(opti_path[1][0],opti_path[1][1],start[0],start[1],sorted_object[0][2],i==0))-np.array(start)) > 2: \n",
    "            pass\n",
    "        elif sorted_object[0][2] > 0:\n",
    "            start = markov(opti_path[1][0],opti_path[1][1],start[0],start[1],sorted_object[0][2],i==0)\n",
    "\n",
    "    #return path. Use the opti_path! \n",
    "    opti_path, path, closed, open = global_nav.get_path_straight(start=start,goal=goal)\n",
    "    #convert optipath to format used by camera\n",
    "    scaled_coords = convert_coordinates_2d_list(opti_path)\n",
    "\n",
    "    #annotate frame\n",
    "    if i>0:\n",
    "        annotation(annotated_frame, scaled_coords)\n",
    "    cv2.imshow(\"frame\", annotated_frame)\n",
    "    output_.write(annotated_frame)\n",
    "    \n",
    "    #update current angle. Take the average of the calculated from image and robot motion\n",
    "    if i != 0: \n",
    "        if list(start) != last_robot_pos:\n",
    "            current_angle = update_angle(last_robot_pos,start,current_angle)\n",
    "\n",
    "\n",
    "    #follow first two points in path\n",
    "    current_angle = follow_path_init(opti_path,current_angle,scale_factor)\n",
    "\n",
    "    #save last robot position\n",
    "    last_robot_pos = list(start)\n",
    "\n",
    "    i+=1\n",
    "  \n",
    "cv2.startWindowThread()\n",
    "cap.release()\n",
    "output_.release()\n",
    "cv2.destroyAllWindows()"
   ]
  },
  {
   "cell_type": "code",
   "execution_count": null,
   "metadata": {},
   "outputs": [
    {
     "data": {
      "text/plain": [
       "0.919"
      ]
     },
     "execution_count": 10,
     "metadata": {},
     "output_type": "execute_result"
    }
   ],
   "source": [
    "sorted_object[0][2]"
   ]
  },
  {
   "cell_type": "code",
   "execution_count": null,
   "metadata": {},
   "outputs": [
    {
     "data": {
      "text/plain": [
       "[[72.0, 29.0], [77.0, 25.0]]"
      ]
     },
     "execution_count": 11,
     "metadata": {},
     "output_type": "execute_result"
    }
   ],
   "source": [
    "opti_path"
   ]
  },
  {
   "cell_type": "code",
   "execution_count": null,
   "metadata": {},
   "outputs": [
    {
     "data": {
      "text/plain": [
       "(25.0, 77.0, 77, 25, 0.919)"
      ]
     },
     "execution_count": 12,
     "metadata": {},
     "output_type": "execute_result"
    }
   ],
   "source": [
    "opti_path[1][1],opti_path[1][0],start[0],start[1],sorted_object[0][2]"
   ]
  },
  {
   "cell_type": "code",
   "execution_count": null,
   "metadata": {},
   "outputs": [
    {
     "data": {
      "text/plain": [
       "(25.0, 77.0, 77, 25, 0.919)"
      ]
     },
     "execution_count": 13,
     "metadata": {},
     "output_type": "execute_result"
    }
   ],
   "source": [
    "opti_path[1][1],opti_path[1][0],start[0],start[1],sorted_object[0][2]"
   ]
  },
  {
   "cell_type": "code",
   "execution_count": 11,
   "metadata": {},
   "outputs": [
    {
     "data": {
      "text/plain": [
       "[<matplotlib.lines.Line2D at 0x176177880>]"
      ]
     },
     "execution_count": 11,
     "metadata": {},
     "output_type": "execute_result"
    },
    {
     "data": {
      "image/png": "[encoded data removed]",
      "text/plain": [
       "<Figure size 1000x750 with 1 Axes>"
      ]
     },
     "metadata": {},
     "output_type": "display_data"
    }
   ],
   "source": [
    "plt.figure(figsize=(10,7.5))\n",
    "plt.imshow(occ.transpose(), cmap='Greys', origin='lower')\n",
    "plt.scatter([x[0] for x in black_holes_centers], [x[1] for x in black_holes_centers], c='b',s=15)\n",
    "plt.scatter(start[0],start[1], c='grey',s=15)\n",
    "plt.scatter(goal[0],goal[1], c='purple',s=15)\n",
    "plt.scatter(earth[0],earth[1], c='green',s=15)\n",
    "plt.scatter([x[0] for x in path], [x[1] for x in path],s=2)\n",
    "\n",
    "# plot \n",
    "plt.scatter([x[0] for x in opti_path], [x[1] for x in opti_path], c='r',s=15)\n",
    "plt.plot([x[0] for x in opti_path], [x[1] for x in opti_path], c='r', alpha=0.5)\n"
   ]
  },
  {
   "cell_type": "code",
   "execution_count": null,
   "metadata": {},
   "outputs": [],
   "source": [
    "set_var(motor_left_target = 0)\n",
    "set_var(motor_right_target = 0)"
   ]
  },
  {
   "cell_type": "code",
   "execution_count": null,
   "metadata": {},
   "outputs": [],
   "source": []
  }
 ],
 "metadata": {
  "kernelspec": {
   "display_name": "Python 3 (ipykernel)",
   "language": "python",
   "name": "python3"
  },
  "language_info": {
   "codemirror_mode": {
    "name": "ipython",
    "version": 3
   },
   "file_extension": ".py",
   "mimetype": "text/x-python",
   "name": "python",
   "nbconvert_exporter": "python",
   "pygments_lexer": "ipython3",
   "version": "3.10.8"
  }
 },
 "nbformat": 4,
 "nbformat_minor": 5
}
